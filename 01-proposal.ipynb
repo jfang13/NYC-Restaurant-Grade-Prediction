{
 "cells": [
  {
   "cell_type": "markdown",
   "metadata": {},
   "source": [
    "# Data Science 5K Capstone Proposal\n",
    "In order to get your capstone approved, you must complete all of the following steps."
   ]
  },
  {
   "cell_type": "markdown",
   "metadata": {},
   "source": [
    "## 1) Get your data\n",
    "You may use any data set(s) you like, so long as they meet these criteria:\n",
    "\n",
    "* Your data cannot have _anything_ to do with your work at Booz Allen Hamilton.\n",
    "* Your data must be publically available for free.\n",
    "* Your data should be interesting to _you_. You want your capstone to be something you're proud of.\n",
    "* Your data should be \"big enough\":\n",
    "    - It should have at least 1,000 rows.\n",
    "    - It should have enough of columns to be interesting.\n",
    "    - If you have questions, contact a member of the instructional team."
   ]
  },
  {
   "cell_type": "markdown",
   "metadata": {},
   "source": [
    "## 2) Provide a link to your data\n",
    "Your data is required to be free and open to anyone. As such, you should have a URL which anyone can use to download your data:"
   ]
  },
  {
   "cell_type": "code",
   "execution_count": null,
   "metadata": {},
   "outputs": [],
   "source": [
    "# Enter link here.\n",
    "https://data.cityofnewyork.us/Health/DOHMH-New-York-City-Restaurant-Inspection-Results/43nn-pn8j\n"
   ]
  },
  {
   "cell_type": "markdown",
   "metadata": {},
   "source": [
    "## 3) Import your data\n",
    "In the space below, import your data. If your data span multiple files, read them all in. If applicable, merge or append them as needed."
   ]
  },
  {
   "cell_type": "code",
   "execution_count": 1,
   "metadata": {},
   "outputs": [],
   "source": [
    "import pandas as pd"
   ]
  },
  {
   "cell_type": "code",
   "execution_count": 5,
   "metadata": {},
   "outputs": [],
   "source": [
    "url = './data/DOHMH_New_York_City_Restaurant_Inspection_Results.csv'"
   ]
  },
  {
   "cell_type": "code",
   "execution_count": 6,
   "metadata": {},
   "outputs": [],
   "source": [
    "rest = pd.read_csv(url)"
   ]
  },
  {
   "cell_type": "markdown",
   "metadata": {},
   "source": [
    "## 4) Show me the head of your data."
   ]
  },
  {
   "cell_type": "code",
   "execution_count": 7,
   "metadata": {},
   "outputs": [
    {
     "data": {
      "text/html": [
       "<div>\n",
       "<style scoped>\n",
       "    .dataframe tbody tr th:only-of-type {\n",
       "        vertical-align: middle;\n",
       "    }\n",
       "\n",
       "    .dataframe tbody tr th {\n",
       "        vertical-align: top;\n",
       "    }\n",
       "\n",
       "    .dataframe thead th {\n",
       "        text-align: right;\n",
       "    }\n",
       "</style>\n",
       "<table border=\"1\" class=\"dataframe\">\n",
       "  <thead>\n",
       "    <tr style=\"text-align: right;\">\n",
       "      <th></th>\n",
       "      <th>CAMIS</th>\n",
       "      <th>DBA</th>\n",
       "      <th>BORO</th>\n",
       "      <th>BUILDING</th>\n",
       "      <th>STREET</th>\n",
       "      <th>ZIPCODE</th>\n",
       "      <th>PHONE</th>\n",
       "      <th>CUISINE DESCRIPTION</th>\n",
       "      <th>INSPECTION DATE</th>\n",
       "      <th>ACTION</th>\n",
       "      <th>VIOLATION CODE</th>\n",
       "      <th>VIOLATION DESCRIPTION</th>\n",
       "      <th>CRITICAL FLAG</th>\n",
       "      <th>SCORE</th>\n",
       "      <th>GRADE</th>\n",
       "      <th>GRADE DATE</th>\n",
       "      <th>RECORD DATE</th>\n",
       "      <th>INSPECTION TYPE</th>\n",
       "    </tr>\n",
       "  </thead>\n",
       "  <tbody>\n",
       "    <tr>\n",
       "      <th>0</th>\n",
       "      <td>50000598</td>\n",
       "      <td>UNCLE TED'S</td>\n",
       "      <td>MANHATTAN</td>\n",
       "      <td>163</td>\n",
       "      <td>BLEECKER STREET</td>\n",
       "      <td>10012.0</td>\n",
       "      <td>2127771395</td>\n",
       "      <td>Chinese</td>\n",
       "      <td>10/03/2016</td>\n",
       "      <td>Violations were cited in the following area(s).</td>\n",
       "      <td>04N</td>\n",
       "      <td>Filth flies or food/refuse/sewage-associated (...</td>\n",
       "      <td>Critical</td>\n",
       "      <td>46.0</td>\n",
       "      <td>NaN</td>\n",
       "      <td>NaN</td>\n",
       "      <td>02/06/2019</td>\n",
       "      <td>Cycle Inspection / Initial Inspection</td>\n",
       "    </tr>\n",
       "    <tr>\n",
       "      <th>1</th>\n",
       "      <td>50000786</td>\n",
       "      <td>DUNKIN' DONUTS</td>\n",
       "      <td>BROOKLYN</td>\n",
       "      <td>873</td>\n",
       "      <td>FLATBUSH AVENUE</td>\n",
       "      <td>11226.0</td>\n",
       "      <td>7189400080</td>\n",
       "      <td>Donuts</td>\n",
       "      <td>12/14/2017</td>\n",
       "      <td>Violations were cited in the following area(s).</td>\n",
       "      <td>10H</td>\n",
       "      <td>Proper sanitization not provided for utensil w...</td>\n",
       "      <td>Not Critical</td>\n",
       "      <td>10.0</td>\n",
       "      <td>NaN</td>\n",
       "      <td>NaN</td>\n",
       "      <td>02/06/2019</td>\n",
       "      <td>Cycle Inspection / Initial Inspection</td>\n",
       "    </tr>\n",
       "    <tr>\n",
       "      <th>2</th>\n",
       "      <td>41703747</td>\n",
       "      <td>M2N BUFFET</td>\n",
       "      <td>QUEENS</td>\n",
       "      <td>4012</td>\n",
       "      <td>82 STREET</td>\n",
       "      <td>11373.0</td>\n",
       "      <td>7188032488</td>\n",
       "      <td>American</td>\n",
       "      <td>01/27/2016</td>\n",
       "      <td>Violations were cited in the following area(s).</td>\n",
       "      <td>10F</td>\n",
       "      <td>Non-food contact surface improperly constructe...</td>\n",
       "      <td>Not Critical</td>\n",
       "      <td>21.0</td>\n",
       "      <td>NaN</td>\n",
       "      <td>NaN</td>\n",
       "      <td>02/06/2019</td>\n",
       "      <td>Cycle Inspection / Initial Inspection</td>\n",
       "    </tr>\n",
       "    <tr>\n",
       "      <th>3</th>\n",
       "      <td>40394258</td>\n",
       "      <td>TOMMASO RESTAURANT</td>\n",
       "      <td>BROOKLYN</td>\n",
       "      <td>1464</td>\n",
       "      <td>86 STREET</td>\n",
       "      <td>11228.0</td>\n",
       "      <td>7182369883</td>\n",
       "      <td>Italian</td>\n",
       "      <td>10/24/2017</td>\n",
       "      <td>Violations were cited in the following area(s).</td>\n",
       "      <td>02G</td>\n",
       "      <td>Cold food item held above 41Âº F (smoked fish ...</td>\n",
       "      <td>Critical</td>\n",
       "      <td>27.0</td>\n",
       "      <td>B</td>\n",
       "      <td>10/24/2017</td>\n",
       "      <td>02/06/2019</td>\n",
       "      <td>Cycle Inspection / Re-inspection</td>\n",
       "    </tr>\n",
       "    <tr>\n",
       "      <th>4</th>\n",
       "      <td>50059515</td>\n",
       "      <td>STICKY'S FINGER JOINT</td>\n",
       "      <td>MANHATTAN</td>\n",
       "      <td>21</td>\n",
       "      <td>MAIDEN LN</td>\n",
       "      <td>10038.0</td>\n",
       "      <td>9177551770</td>\n",
       "      <td>Chicken</td>\n",
       "      <td>03/08/2018</td>\n",
       "      <td>Violations were cited in the following area(s).</td>\n",
       "      <td>06A</td>\n",
       "      <td>Personal cleanliness inadequate. Outer garment...</td>\n",
       "      <td>Critical</td>\n",
       "      <td>5.0</td>\n",
       "      <td>A</td>\n",
       "      <td>03/08/2018</td>\n",
       "      <td>02/06/2019</td>\n",
       "      <td>Cycle Inspection / Initial Inspection</td>\n",
       "    </tr>\n",
       "  </tbody>\n",
       "</table>\n",
       "</div>"
      ],
      "text/plain": [
       "      CAMIS                    DBA       BORO BUILDING           STREET  \\\n",
       "0  50000598            UNCLE TED'S  MANHATTAN      163  BLEECKER STREET   \n",
       "1  50000786         DUNKIN' DONUTS   BROOKLYN      873  FLATBUSH AVENUE   \n",
       "2  41703747             M2N BUFFET     QUEENS     4012        82 STREET   \n",
       "3  40394258     TOMMASO RESTAURANT   BROOKLYN     1464        86 STREET   \n",
       "4  50059515  STICKY'S FINGER JOINT  MANHATTAN       21        MAIDEN LN   \n",
       "\n",
       "   ZIPCODE       PHONE CUISINE DESCRIPTION INSPECTION DATE  \\\n",
       "0  10012.0  2127771395             Chinese      10/03/2016   \n",
       "1  11226.0  7189400080              Donuts      12/14/2017   \n",
       "2  11373.0  7188032488            American      01/27/2016   \n",
       "3  11228.0  7182369883             Italian      10/24/2017   \n",
       "4  10038.0  9177551770             Chicken      03/08/2018   \n",
       "\n",
       "                                            ACTION VIOLATION CODE  \\\n",
       "0  Violations were cited in the following area(s).            04N   \n",
       "1  Violations were cited in the following area(s).            10H   \n",
       "2  Violations were cited in the following area(s).            10F   \n",
       "3  Violations were cited in the following area(s).            02G   \n",
       "4  Violations were cited in the following area(s).            06A   \n",
       "\n",
       "                               VIOLATION DESCRIPTION CRITICAL FLAG  SCORE  \\\n",
       "0  Filth flies or food/refuse/sewage-associated (...      Critical   46.0   \n",
       "1  Proper sanitization not provided for utensil w...  Not Critical   10.0   \n",
       "2  Non-food contact surface improperly constructe...  Not Critical   21.0   \n",
       "3  Cold food item held above 41Âº F (smoked fish ...      Critical   27.0   \n",
       "4  Personal cleanliness inadequate. Outer garment...      Critical    5.0   \n",
       "\n",
       "  GRADE  GRADE DATE RECORD DATE                        INSPECTION TYPE  \n",
       "0   NaN         NaN  02/06/2019  Cycle Inspection / Initial Inspection  \n",
       "1   NaN         NaN  02/06/2019  Cycle Inspection / Initial Inspection  \n",
       "2   NaN         NaN  02/06/2019  Cycle Inspection / Initial Inspection  \n",
       "3     B  10/24/2017  02/06/2019       Cycle Inspection / Re-inspection  \n",
       "4     A  03/08/2018  02/06/2019  Cycle Inspection / Initial Inspection  "
      ]
     },
     "execution_count": 7,
     "metadata": {},
     "output_type": "execute_result"
    }
   ],
   "source": [
    "rest.head()"
   ]
  },
  {
   "cell_type": "markdown",
   "metadata": {},
   "source": [
    "## 5) Show me the shape of your data"
   ]
  },
  {
   "cell_type": "code",
   "execution_count": 8,
   "metadata": {},
   "outputs": [
    {
     "data": {
      "text/plain": [
       "(385670, 18)"
      ]
     },
     "execution_count": 8,
     "metadata": {},
     "output_type": "execute_result"
    }
   ],
   "source": [
    "rest.shape"
   ]
  },
  {
   "cell_type": "markdown",
   "metadata": {},
   "source": [
    "## 6) Show me the proportion of missing observations for each column of your data"
   ]
  },
  {
   "cell_type": "code",
   "execution_count": 13,
   "metadata": {},
   "outputs": [
    {
     "name": "stdout",
     "output_type": "stream",
     "text": [
      "<class 'pandas.core.frame.DataFrame'>\n",
      "RangeIndex: 385670 entries, 0 to 385669\n",
      "Data columns (total 18 columns):\n",
      "CAMIS                    385670 non-null int64\n",
      "DBA                      385219 non-null object\n",
      "BORO                     385670 non-null object\n",
      "BUILDING                 385430 non-null object\n",
      "STREET                   385666 non-null object\n",
      "ZIPCODE                  379777 non-null float64\n",
      "PHONE                    385667 non-null object\n",
      "CUISINE DESCRIPTION      385670 non-null object\n",
      "INSPECTION DATE          385670 non-null object\n",
      "ACTION                   384475 non-null object\n",
      "VIOLATION CODE           379762 non-null object\n",
      "VIOLATION DESCRIPTION    377671 non-null object\n",
      "CRITICAL FLAG            385670 non-null object\n",
      "SCORE                    366617 non-null float64\n",
      "GRADE                    194784 non-null object\n",
      "GRADE DATE               193295 non-null object\n",
      "RECORD DATE              385670 non-null object\n",
      "INSPECTION TYPE          384475 non-null object\n",
      "dtypes: float64(2), int64(1), object(15)\n",
      "memory usage: 53.0+ MB\n"
     ]
    }
   ],
   "source": [
    "rest.info()"
   ]
  },
  {
   "cell_type": "markdown",
   "metadata": {},
   "source": [
    "## 7) Give me a problem statement.\n",
    "Below, write a problem statement. Keep in mind that your task is to tease out relationships in your data and eventually build a predictive model. Your problem statement can be vague, but you should have a goal in mind. Your problem statement should be between one sentence and one paragraph."
   ]
  },
  {
   "cell_type": "markdown",
   "metadata": {},
   "source": [
    "Interested to see if certain violations are more prominent in certain neighborhoods and/or cuisines. Ultimately, it would be cool to see if the inspections contribute to restaurant closings. "
   ]
  },
  {
   "cell_type": "markdown",
   "metadata": {},
   "source": [
    "## 8) What is your _y_-variable?\n",
    "For Part C of your capstone, you will need to perform a statistical model. This means you will have to accurately predict some y-variable for some combination of x-variables. From your problem statement in part 7, what is that y-variable?"
   ]
  },
  {
   "cell_type": "markdown",
   "metadata": {},
   "source": [
    "Score/Grade of the inspection. "
   ]
  },
  {
   "cell_type": "code",
   "execution_count": null,
   "metadata": {},
   "outputs": [],
   "source": []
  }
 ],
 "metadata": {
  "kernelspec": {
   "display_name": "Python 3",
   "language": "python",
   "name": "python3"
  },
  "language_info": {
   "codemirror_mode": {
    "name": "ipython",
    "version": 3
   },
   "file_extension": ".py",
   "mimetype": "text/x-python",
   "name": "python",
   "nbconvert_exporter": "python",
   "pygments_lexer": "ipython3",
   "version": "3.8.5"
  }
 },
 "nbformat": 4,
 "nbformat_minor": 2
}
